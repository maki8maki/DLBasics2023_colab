{
  "cells": [
    {
      "cell_type": "markdown",
      "metadata": {
        "id": "view-in-github",
        "colab_type": "text"
      },
      "source": [
        "<a href=\"https://colab.research.google.com/github/maki8maki/DLBasics2023_colab/blob/master/lecture02_homework.ipynb\" target=\"_parent\"><img src=\"https://colab.research.google.com/assets/colab-badge.svg\" alt=\"Open In Colab\"/></a>"
      ]
    },
    {
      "cell_type": "markdown",
      "metadata": {
        "id": "03FTy4lwzXiQ"
      },
      "source": [
        "# 第2回講義 宿題"
      ]
    },
    {
      "cell_type": "markdown",
      "metadata": {
        "id": "JtnWqKVGzXiT"
      },
      "source": [
        "## 課題\n",
        "今回のLessonで学んだことを元に，MNISTのファッション版 (Fashion MNIST，クラス数10) をソフトマックス回帰によって分類してみましょう．\n",
        "\n",
        "Fashion MNISTの詳細については以下のリンクを参考にしてください．\n",
        "\n",
        "Fashion MNIST: https://github.com/zalandoresearch/fashion-mnist"
      ]
    },
    {
      "cell_type": "markdown",
      "metadata": {
        "id": "zyD3F677zXiU"
      },
      "source": [
        "### 目標値\n",
        "Accuracy: 80%"
      ]
    },
    {
      "cell_type": "markdown",
      "metadata": {
        "id": "9pt9rMcxzXiU"
      },
      "source": [
        "### ルール\n",
        "- **下のセルで指定されている`x_train、y_train`以外の学習データは使わないでください．**\n",
        "- **ソフトマックス回帰のアルゴリズム部分の実装はnumpyのみで行ってください** (sklearnやtensorflowなどは使用しないでください)．\n",
        "    - データの前処理部分でsklearnの関数を使う (例えば `sklearn.model_selection.train_test_split`) のは問題ありません．"
      ]
    },
    {
      "cell_type": "markdown",
      "metadata": {
        "id": "2bq41q5SzXiV"
      },
      "source": [
        "### 提出方法\n",
        "- 2つのファイルを提出していただきます．\n",
        "    1. テストデータ (`x_test`) に対する予測ラベルを`submission_pred.csv`として保存し，**Homeworkタブから`lecture02`を選択して**提出してください．\n",
        "    2. それに対応するpythonのコードを`submission_code.py`として保存し，**Homeworkタブから`lecture02 (code)`を選択して**提出してください．\n",
        "      \n",
        "- なお，採点は1で行い，2はコードの確認用として利用します（成績優秀者はコード内容を公開させていただくかもしれません）．コードの内容を変更した場合は，**1と2の両方を提出し直してください**．"
      ]
    },
    {
      "cell_type": "markdown",
      "metadata": {
        "id": "KJKR8DMtzXiW"
      },
      "source": [
        "### 評価方法\n",
        "- 予測ラベルの`y_test`に対する精度 (Accuracy) で評価します．\n",
        "- 即時採点しLeader Boardを更新します．（採点スケジュールは別アナウンス）\n",
        "- 締切後の点数を最終的な評価とします．"
      ]
    },
    {
      "cell_type": "code",
      "source": [
        "from google.colab import drive\n",
        "drive.mount('/content/drive')"
      ],
      "metadata": {
        "id": "1oI-Fjs4btCn",
        "colab": {
          "base_uri": "https://localhost:8080/"
        },
        "outputId": "270569b6-e0dc-44ef-f89f-f20331bc4e46"
      },
      "execution_count": 1,
      "outputs": [
        {
          "output_type": "stream",
          "name": "stdout",
          "text": [
            "Mounted at /content/drive\n"
          ]
        }
      ]
    },
    {
      "cell_type": "markdown",
      "metadata": {
        "id": "r20uRSCUzXiX"
      },
      "source": [
        "### データの読み込み（このセルは修正しないでください）"
      ]
    },
    {
      "cell_type": "code",
      "execution_count": 2,
      "metadata": {
        "id": "OZodouZWzXiX"
      },
      "outputs": [],
      "source": [
        "import os\n",
        "import sys\n",
        "\n",
        "import numpy as np\n",
        "import pandas as pd\n",
        "\n",
        "sys.modules['tensorflow'] = None\n",
        "\n",
        "def load_fashionmnist():\n",
        "    # 学習データ\n",
        "    x_train = np.load('drive/MyDrive/Colab Notebooks/DLBasics2023_colab/Lecture02/data/x_train.npy')\n",
        "    y_train = np.load('drive/MyDrive/Colab Notebooks/DLBasics2023_colab/Lecture02/data/y_train.npy')\n",
        "    \n",
        "    # テストデータ\n",
        "    x_test = np.load('drive/MyDrive/Colab Notebooks/DLBasics2023_colab/Lecture02/data/x_test.npy')\n",
        "    \n",
        "    x_train = x_train.reshape(-1, 784).astype('float32') / 255\n",
        "    y_train = np.eye(10)[y_train.astype('int32')]\n",
        "    x_test = x_test.reshape(-1, 784).astype('float32') / 255\n",
        "    \n",
        "    return x_train, y_train, x_test"
      ]
    },
    {
      "cell_type": "markdown",
      "metadata": {
        "id": "mHynK8xAzXid"
      },
      "source": [
        "### ソフトマックス回帰の実装"
      ]
    },
    {
      "cell_type": "code",
      "source": [
        "from sklearn.metrics import accuracy_score\n",
        "from sklearn.model_selection import train_test_split\n",
        "\n",
        "x_train, y_train, x_test = load_fashionmnist()\n",
        "\n",
        "# 学習データと検証データに分割\n",
        "x_train, x_valid, y_train, y_valid = train_test_split(x_train, y_train, test_size=0.1)"
      ],
      "metadata": {
        "id": "-tsF372FYEWD"
      },
      "execution_count": 4,
      "outputs": []
    },
    {
      "cell_type": "code",
      "source": [
        "S = np.cov(x_train.T, bias=True) # 分散共分散行列\n",
        "eig, eigvec = np.linalg.eig(S) # 固有値, 固有ベクトル\n",
        "\n",
        "# 昇順に並べ替え\n",
        "idx = np.argsort(eig)[::-1]\n",
        "eig = eig[idx]\n",
        "eigvec = eigvec[idx]\n",
        "\n",
        "import matplotlib.pyplot as plt\n",
        "\n",
        "plt.plot(np.arange(len(eig)), [sum(eig[0:i+1]/sum(eig)) for i in range(len(eig))])\n",
        "plt.xlim(-1, len(eig))\n",
        "plt.ylim(0, 1.01)\n",
        "plt.axvline(x = 30, ls=\"dashed\", color=\"orange\")\n",
        "plt.axhline(y = 0.8, ls=\"dashed\", color=\"orange\")"
      ],
      "metadata": {
        "colab": {
          "base_uri": "https://localhost:8080/",
          "height": 450
        },
        "id": "GF0GFkjxYdcQ",
        "outputId": "f7e95235-76cb-4cd2-d70b-8be9c8aabe43"
      },
      "execution_count": 5,
      "outputs": [
        {
          "output_type": "execute_result",
          "data": {
            "text/plain": [
              "<matplotlib.lines.Line2D at 0x7f1f1c83c1f0>"
            ]
          },
          "metadata": {},
          "execution_count": 5
        },
        {
          "output_type": "display_data",
          "data": {
            "text/plain": [
              "<Figure size 640x480 with 1 Axes>"
            ],
            "image/png": "[encoded data removed]"
          },
          "metadata": {}
        }
      ]
    },
    {
      "cell_type": "code",
      "source": [
        "n_pc = 100 # 考慮する主成分の数\n",
        "x_train_pc, x_valid_pc, x_test_pc = np.dot(x_train, eigvec[0:n_pc].T), np.dot(x_valid, eigvec[0:n_pc].T), np.dot(x_test, eigvec[0:n_pc].T)\n",
        "\n",
        "# weights\n",
        "W = np.random.uniform(low=-0.08, high=0.08, size=(n_pc, 10)).astype('float32')\n",
        "b = np.zeros(shape=(10,)).astype('float32')"
      ],
      "metadata": {
        "id": "yjukaSg-cFlg"
      },
      "execution_count": 6,
      "outputs": []
    },
    {
      "cell_type": "code",
      "execution_count": 7,
      "metadata": {
        "id": "gU9E1ppuzXie"
      },
      "outputs": [],
      "source": [
        "def np_log(x):\n",
        "    return np.log(np.clip(a=x, a_min=1e-10, a_max=1e+10))\n",
        "\n",
        "def softmax(x, axis=1):\n",
        "    x -= x.max(axis, keepdims=True)\n",
        "    x_exp = np.exp(x)\n",
        "    return x_exp / x_exp.sum(axis, keepdims=True)\n",
        "\n",
        "def train(x, y, eps=1.0):\n",
        "    \"\"\"\n",
        "    :param x: np.ndarray, 入力データ, shape=(batch_size, 入力の次元数)\n",
        "    :param y: np.ndarray, 教師ラベル, shape=(batch_size, 出力の次元数)\n",
        "    :param eps: float, 学習率\n",
        "    \"\"\"\n",
        "    global W, b\n",
        "    \n",
        "    batch_size = x.shape[0]\n",
        "    \n",
        "    # 予測 shape: (batch_size, 出力の次元数)\n",
        "    y_hat = softmax(np.matmul(x, W) + b)\n",
        "    \n",
        "    # 目的関数\n",
        "    cost = -(y * np_log(y_hat)).sum(axis=1).mean()\n",
        "    \n",
        "    delta = y_hat - y # shape: (batch_size, 出力の次元数)\n",
        "    \n",
        "    # パラメータの更新\n",
        "    dW = np.matmul(x.T, delta) / batch_size # shape: (入力の次元数, 出力の次元数)\n",
        "    db = np.matmul(np.ones(shape=(batch_size,)), delta) / batch_size # shape: (出力の次元数,)\n",
        "    W -= eps * dW\n",
        "    b -= eps * db\n",
        "\n",
        "    return cost\n",
        "\n",
        "def valid(x, y):\n",
        "    y_hat = softmax(np.matmul(x, W) + b)\n",
        "    cost = (- y * np_log(y_hat)).sum(axis=1).mean()\n",
        "    \n",
        "    return cost, y_hat"
      ]
    },
    {
      "cell_type": "code",
      "source": [
        "num_epoch = 1000 # epoch数\n",
        "dig = num_epoch / 10 # 学習経過の表示に利用\n",
        "cost_train = 10.0\n",
        "for epoch in range(num_epoch):\n",
        "    # オンライン学習\n",
        "    cost_train = train(x_train_pc, y_train, cost_train*2) # costにあわせて学習率を変更\n",
        "    cost_valid, y_pred = valid(x_valid_pc, y_valid)\n",
        "    if epoch % dig == (dig-1) or epoch == 0:\n",
        "        print('EPOCH: {}, Valid Cost: {:.3f}, Valid Accuracy: {:.3f}'.format(\n",
        "            epoch + 1,\n",
        "            cost_valid,\n",
        "            accuracy_score(y_valid.argmax(axis=1), y_pred.argmax(axis=1))\n",
        "        ))\n",
        "\n",
        "y_pred = softmax(np.matmul(x_test_pc, W) + b).argmax(axis=1)\n",
        "\n",
        "submission = pd.Series(y_pred, name='label')\n",
        "submission.to_csv('drive/MyDrive/Colab Notebooks/DLBasics2023_colab/Lecture02/submission_pred.csv', header=True, index_label='id')"
      ],
      "metadata": {
        "id": "xK8yj8kaiS5t",
        "colab": {
          "base_uri": "https://localhost:8080/"
        },
        "outputId": "541fedd0-aed8-4cd8-ea5a-02a2dd782648"
      },
      "execution_count": 9,
      "outputs": [
        {
          "output_type": "stream",
          "name": "stdout",
          "text": [
            "EPOCH: 1, Valid Cost: 0.565, Valid Accuracy: 0.801\n",
            "EPOCH: 100, Valid Cost: 0.562, Valid Accuracy: 0.803\n",
            "EPOCH: 200, Valid Cost: 0.559, Valid Accuracy: 0.804\n",
            "EPOCH: 300, Valid Cost: 0.557, Valid Accuracy: 0.804\n",
            "EPOCH: 400, Valid Cost: 0.555, Valid Accuracy: 0.805\n",
            "EPOCH: 500, Valid Cost: 0.553, Valid Accuracy: 0.807\n",
            "EPOCH: 600, Valid Cost: 0.552, Valid Accuracy: 0.807\n",
            "EPOCH: 700, Valid Cost: 0.550, Valid Accuracy: 0.808\n",
            "EPOCH: 800, Valid Cost: 0.549, Valid Accuracy: 0.809\n",
            "EPOCH: 900, Valid Cost: 0.548, Valid Accuracy: 0.810\n",
            "EPOCH: 1000, Valid Cost: 0.547, Valid Accuracy: 0.810\n"
          ]
        }
      ]
    },
    {
      "cell_type": "code",
      "source": [],
      "metadata": {
        "id": "xs036XQO8Rz_"
      },
      "execution_count": null,
      "outputs": []
    }
  ],
  "metadata": {
    "colab": {
      "provenance": [],
      "include_colab_link": true
    },
    "kernelspec": {
      "display_name": "Python 3",
      "language": "python",
      "name": "python3"
    },
    "language_info": {
      "codemirror_mode": {
        "name": "ipython",
        "version": 3
      },
      "file_extension": ".py",
      "mimetype": "text/x-python",
      "name": "python",
      "nbconvert_exporter": "python",
      "pygments_lexer": "ipython3",
      "version": "3.6.2"
    }
  },
  "nbformat": 4,
  "nbformat_minor": 0
}