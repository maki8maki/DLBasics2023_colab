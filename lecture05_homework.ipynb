{
  "cells": [
    {
      "cell_type": "markdown",
      "metadata": {
        "id": "view-in-github",
        "colab_type": "text"
      },
      "source": [
        "<a href=\"https://colab.research.google.com/github/maki8maki/DLBasics2023_colab/blob/master/lecture05_homework.ipynb\" target=\"_parent\"><img src=\"https://colab.research.google.com/assets/colab-badge.svg\" alt=\"Open In Colab\"/></a>"
      ]
    },
    {
      "cell_type": "markdown",
      "metadata": {
        "id": "MUWcdth_khfN"
      },
      "source": [
        "# 第5回講義 宿題"
      ]
    },
    {
      "cell_type": "markdown",
      "metadata": {
        "id": "gAjuP7I4lWyn"
      },
      "source": [
        "## 課題\n",
        "\n",
        "今Lessonで学んだことに工夫を加えて，CNNでより高精度なCIFAR10の分類器を実装してみましょう．精度上位者はリーダーボードに載ります．"
      ]
    },
    {
      "cell_type": "markdown",
      "metadata": {
        "id": "Cpiz19GRlZ_9"
      },
      "source": [
        "### 目標値\n",
        "\n",
        "Accuracy 78%"
      ]
    },
    {
      "cell_type": "markdown",
      "metadata": {
        "id": "qSHeI_utleEN"
      },
      "source": [
        "### ルール\n",
        "\n",
        "- 訓練データはx_train， t_train，テストデータはx_testで与えられます．\n",
        "- 予測ラベルは one_hot表現ではなく0~9のクラスラベル で表してください．\n",
        "- **下のセルで指定されているx_train，t_train以外の学習データは使わないでください．**\n",
        "- 今回から基本的にAPI制限はありません．\n",
        "- ただしCNNベースでないモデル（Vision Transformerなど）やtorchvision等の既存モデル，学習済みモデルは用いないでください．"
      ]
    },
    {
      "cell_type": "markdown",
      "metadata": {
        "id": "diuec-_YluI6"
      },
      "source": [
        "### 提出方法\n",
        "\n",
        "- 2つのファイルを提出していただきます．\n",
        "  - テストデータ (x_test) に対する予測ラベルをcsvファイル (ファイル名: submission_pred.csv) で提出してください．\n",
        "  - それに対応するpythonのコードをsubmission_code.pyとして提出してください (%%writefileコマンドなどを利用してください)．"
      ]
    },
    {
      "cell_type": "markdown",
      "metadata": {
        "id": "hofSzJsVlvKp"
      },
      "source": [
        "### 評価方法\n",
        "\n",
        "- 予測ラベルのt_testに対する精度 (Accuracy) で評価します．\n",
        "- 提出後即時採点を行い，Leader Boardが更新されます．\n",
        "- 締切後の点数を最終的な評価とします．"
      ]
    },
    {
      "cell_type": "code",
      "execution_count": null,
      "metadata": {
        "colab": {
          "base_uri": "https://localhost:8080/"
        },
        "id": "8dS-Kfw6fBxm",
        "outputId": "ab69f7f0-a2cd-4638-fd46-8df6911941e6"
      },
      "outputs": [
        {
          "name": "stdout",
          "output_type": "stream",
          "text": [
            "Mounted at /content/drive\n"
          ]
        }
      ],
      "source": [
        "# ドライブのマウント\n",
        "from google.colab import drive\n",
        "drive.mount('/content/drive')"
      ]
    },
    {
      "cell_type": "markdown",
      "metadata": {
        "id": "Cu4cmQtelx19"
      },
      "source": [
        "### データの読み込み\n",
        "\n",
        "- この部分は修正しないでください"
      ]
    },
    {
      "cell_type": "code",
      "execution_count": null,
      "metadata": {
        "id": "EsLDDSUJkRx-"
      },
      "outputs": [],
      "source": [
        "import random\n",
        "\n",
        "import numpy as np\n",
        "import pandas as pd\n",
        "import torch\n",
        "from torchvision import transforms\n",
        "from tqdm import tqdm_notebook as tqdm\n",
        "from PIL import Image\n",
        "from sklearn.model_selection import train_test_split\n",
        "\n",
        "#学習データ\n",
        "x_train = np.load('drive/MyDrive/Colab Notebooks/DLBasics2023_colab/Lecture05/data/x_train.npy')\n",
        "t_train = np.load('drive/MyDrive/Colab Notebooks/DLBasics2023_colab/Lecture05/data/t_train.npy')\n",
        "    \n",
        "#テストデータ\n",
        "x_test = np.load('drive/MyDrive/Colab Notebooks/DLBasics2023_colab/Lecture05/data/x_test.npy')\n",
        "\n",
        "class train_dataset(torch.utils.data.Dataset):\n",
        "    def __init__(self, x_train, t_train):\n",
        "        data = x_train.astype('float32')\n",
        "        self.x_train = []\n",
        "        for i in range(data.shape[0]):\n",
        "            self.x_train.append(Image.fromarray(np.uint8(data[i])))\n",
        "        self.t_train = t_train\n",
        "        self.transform = transforms.ToTensor()\n",
        "\n",
        "    def __len__(self):\n",
        "        return len(self.x_train)\n",
        "\n",
        "    def __getitem__(self, idx):\n",
        "        return self.transform(self.x_train[idx]), torch.tensor(t_train[idx], dtype=torch.long)\n",
        "\n",
        "class test_dataset(torch.utils.data.Dataset):\n",
        "    def __init__(self, x_test):\n",
        "        data = x_test.astype('float32')\n",
        "        self.x_test = []\n",
        "        for i in range(data.shape[0]):\n",
        "            self.x_test.append(Image.fromarray(np.uint8(data[i])))\n",
        "        self.transform = transforms.ToTensor()\n",
        "\n",
        "    def __len__(self):\n",
        "        return len(self.x_test)\n",
        "\n",
        "    def __getitem__(self, idx):\n",
        "        return self.transform(self.x_test[idx])\n",
        "\n",
        "trainval_data = train_dataset(x_train, t_train)\n",
        "test_data = test_dataset(x_test)"
      ]
    },
    {
      "cell_type": "markdown",
      "metadata": {
        "id": "UrSpHDIWOfK_"
      },
      "source": [
        "### 畳み込みニューラルネットワーク(CNN)の実装"
      ]
    },
    {
      "cell_type": "code",
      "execution_count": null,
      "metadata": {
        "colab": {
          "base_uri": "https://localhost:8080/"
        },
        "id": "sKAe0F36nSvU",
        "outputId": "fe6c77a2-056d-4e5e-fcd9-83fe84042b3a"
      },
      "outputs": [
        {
          "name": "stdout",
          "output_type": "stream",
          "text": [
            "0/50000\n",
            "10000/50000\n",
            "20000/50000\n",
            "30000/50000\n",
            "40000/50000\n",
            "completed!\n"
          ]
        }
      ],
      "source": [
        "def fix_seed(seed=1234):\n",
        "    random.seed(seed)\n",
        "    np.random.seed(seed)\n",
        "    torch.manual_seed(seed)\n",
        "\n",
        "\n",
        "fix_seed(seed=42)\n",
        "\n",
        "\n",
        "class gcn():\n",
        "    def __init__(self):\n",
        "        pass\n",
        "\n",
        "    def __call__(self, x):\n",
        "        mean = torch.mean(x)\n",
        "        std = torch.std(x)\n",
        "        return (x - mean)/(std + 10**(-6))  # 0除算を防ぐ\n",
        "\n",
        "\n",
        "class ZCAWhitening():\n",
        "    def __init__(self, epsilon=1e-4, device=\"cuda\"):  # 計算が重いのでGPUを用いる\n",
        "        self.epsilon = epsilon\n",
        "        self.device = device\n",
        "\n",
        "    def fit(self, images):  # 変換行列と平均をデータから計算\n",
        "        x = images[0][0].reshape(1, -1)\n",
        "        self.mean = torch.zeros([1, x.size()[1]]).to(self.device)\n",
        "        con_matrix = torch.zeros([x.size()[1], x.size()[1]]).to(self.device)\n",
        "        for i in range(len(images)):  # 各データについての平均を取る\n",
        "            x = images[i][0].reshape(1, -1).to(self.device)\n",
        "            self.mean += x / len(images)\n",
        "            con_matrix += torch.mm(x.t(), x) / len(images)\n",
        "            if i % 10000 == 0:\n",
        "                print(\"{0}/{1}\".format(i, len(images)))\n",
        "        self.E, self.V = torch.linalg.eigh(con_matrix)  # 固有値分解\n",
        "        self.E = torch.max(self.E, torch.zeros_like(self.E)) # 誤差の影響で負になるのを防ぐ\n",
        "        self.ZCA_matrix = torch.mm(torch.mm(self.V, torch.diag((self.E.squeeze()+self.epsilon)**(-0.5))), self.V.t())\n",
        "        print(\"completed!\")\n",
        "\n",
        "    def __call__(self, x):\n",
        "        size = x.size()\n",
        "        x = x.reshape(1, -1).to(self.device)\n",
        "        x -= self.mean\n",
        "        x = torch.mm(x, self.ZCA_matrix.t())\n",
        "        x = x.reshape(tuple(size))\n",
        "        x = x.to(\"cpu\")\n",
        "        return x\n",
        "\n",
        "\n",
        "# (datasetのクラスを自作したので，このあたりの処理が少し変わっています)\n",
        "\n",
        "zca = ZCAWhitening()\n",
        "zca.fit(trainval_data)\n",
        "\n",
        "val_size = 3000\n",
        "train_data, val_data = torch.utils.data.random_split(trainval_data, [len(trainval_data)-val_size, val_size])  # 訓練データと検証データに分割"
      ]
    },
    {
      "cell_type": "code",
      "execution_count": 11,
      "metadata": {
        "id": "hfmC3wbL_V7I"
      },
      "outputs": [],
      "source": [
        "# 前処理を定義\n",
        "transform_train = transforms.Compose([transforms.RandomHorizontalFlip(p=0.5),\n",
        "                                      transforms.ToTensor(),\n",
        "                                      zca])\n",
        "\n",
        "transform_test = transforms.Compose([transforms.ToTensor(),\n",
        "                                     zca])\n",
        "\n",
        "# データセットに前処理を設定\n",
        "trainval_data.transform = transform_train\n",
        "test_data.transform = transform_test\n",
        "\n",
        "batch_size = 64\n",
        "\n",
        "dataloader_train = torch.utils.data.DataLoader(\n",
        "    train_data,\n",
        "    batch_size=batch_size,\n",
        "    shuffle=True\n",
        ")\n",
        "\n",
        "dataloader_valid = torch.utils.data.DataLoader(\n",
        "    val_data,\n",
        "    batch_size=batch_size,\n",
        "    shuffle=True\n",
        ")\n",
        "\n",
        "dataloader_test = torch.utils.data.DataLoader(\n",
        "    test_data,\n",
        "    batch_size=batch_size,\n",
        "    shuffle=False\n",
        ")"
      ]
    },
    {
      "cell_type": "code",
      "execution_count": 12,
      "metadata": {
        "id": "PADQiKNa2snb"
      },
      "outputs": [],
      "source": [
        "import torch.nn as nn\n",
        "import torch.optim as optim\n",
        "import torch.autograd as autograd\n",
        "import torch.nn.functional as F\n",
        "\n",
        "rng = np.random.RandomState(1234)\n",
        "random_state = 42\n",
        "device = torch.device(\"cuda\" if torch.cuda.is_available() else \"cpu\")\n",
        "\n",
        "# 演習にDropout追加\n",
        "conv_net = nn.Sequential(\n",
        "    nn.Conv2d(3, 32, 3),              # 32x32x3 -> 30x30x32\n",
        "    nn.BatchNorm2d(32),\n",
        "    nn.ReLU(),\n",
        "    nn.AvgPool2d(2),                  # 30x30x32 -> 15x15x32\n",
        "    nn.Conv2d(32, 64, 3),             # 15x15x32 -> 13x13x64\n",
        "    nn.BatchNorm2d(64),\n",
        "    nn.ReLU(),\n",
        "    nn.AvgPool2d(2),                  # 13x13x64 -> 6x6x64\n",
        "    nn.Conv2d(64, 128, 3),            # 6x6x64 -> 4x4x128\n",
        "    nn.BatchNorm2d(128),\n",
        "    nn.ReLU(),\n",
        "    nn.AvgPool2d(2),                  # 4x4x128 -> 2x2x128\n",
        "    nn.Flatten(),\n",
        "    nn.Dropout(0.25),\n",
        "    nn.Linear(2*2*128, 256),\n",
        "    nn.ReLU(),\n",
        "    nn.Dropout(0.25),\n",
        "    nn.Linear(256, 10)\n",
        ")\n",
        "\n",
        "# # LeNetにBatchNormを追加 -> 精度は低い\n",
        "# conv_net = nn.Sequential(\n",
        "#     nn.Conv2d(3, 6, 5),              # 32x32x3 -> 28x28x6\n",
        "#     nn.BatchNorm2d(6),\n",
        "#     nn.ReLU(),\n",
        "#     nn.MaxPool2d((2, 2)),            # 28x28x6 -> 14x14x6\n",
        "#     nn.Conv2d(6, 16, 5),             # 14x14x6 -> 10x10x16\n",
        "#     nn.BatchNorm2d(16),\n",
        "#     nn.ReLU(),\n",
        "#     nn.MaxPool2d((2, 2)),            # 10x10x16 -> 5x5x16\n",
        "#     nn.Flatten(),\n",
        "#     nn.Linear(5*5*16, 120),\n",
        "#     nn.ReLU(),\n",
        "#     nn.Linear(120, 84),\n",
        "#     nn.ReLU(),\n",
        "#     nn.Linear(84, 10)\n",
        "# )\n",
        "\n",
        "def init_weights(m):  # Heの初期化\n",
        "    if type(m) == nn.Linear or type(m) == nn.Conv2d:\n",
        "        torch.nn.init.kaiming_normal_(m.weight)\n",
        "        m.bias.data.fill_(0.0)"
      ]
    },
    {
      "cell_type": "code",
      "execution_count": 13,
      "metadata": {
        "colab": {
          "base_uri": "https://localhost:8080/"
        },
        "id": "nlOZuLu-328i",
        "outputId": "76639608-964d-41b7-ea46-7e66a1a5c8c9"
      },
      "outputs": [
        {
          "output_type": "stream",
          "name": "stdout",
          "text": [
            "EPOCH: 0, Train [Loss: 1.445, Accuracy: 0.489], Valid [Loss: 1.177, Accuracy: 0.604]\n",
            "EPOCH: 1, Train [Loss: 1.073, Accuracy: 0.628], Valid [Loss: 0.942, Accuracy: 0.676]\n",
            "EPOCH: 2, Train [Loss: 0.942, Accuracy: 0.679], Valid [Loss: 0.888, Accuracy: 0.702]\n",
            "EPOCH: 3, Train [Loss: 0.872, Accuracy: 0.703], Valid [Loss: 0.761, Accuracy: 0.750]\n",
            "EPOCH: 4, Train [Loss: 0.811, Accuracy: 0.728], Valid [Loss: 0.728, Accuracy: 0.756]\n",
            "EPOCH: 5, Train [Loss: 0.780, Accuracy: 0.737], Valid [Loss: 0.779, Accuracy: 0.730]\n",
            "EPOCH: 6, Train [Loss: 0.746, Accuracy: 0.748], Valid [Loss: 0.678, Accuracy: 0.757]\n",
            "EPOCH: 7, Train [Loss: 0.718, Accuracy: 0.759], Valid [Loss: 0.635, Accuracy: 0.783]\n",
            "EPOCH: 8, Train [Loss: 0.699, Accuracy: 0.765], Valid [Loss: 0.698, Accuracy: 0.763]\n",
            "EPOCH: 9, Train [Loss: 0.676, Accuracy: 0.775], Valid [Loss: 0.628, Accuracy: 0.789]\n",
            "EPOCH: 10, Train [Loss: 0.663, Accuracy: 0.776], Valid [Loss: 0.659, Accuracy: 0.779]\n",
            "EPOCH: 11, Train [Loss: 0.644, Accuracy: 0.784], Valid [Loss: 0.673, Accuracy: 0.780]\n",
            "EPOCH: 12, Train [Loss: 0.633, Accuracy: 0.788], Valid [Loss: 0.601, Accuracy: 0.788]\n",
            "EPOCH: 13, Train [Loss: 0.624, Accuracy: 0.792], Valid [Loss: 0.610, Accuracy: 0.796]\n",
            "EPOCH: 14, Train [Loss: 0.606, Accuracy: 0.798], Valid [Loss: 0.629, Accuracy: 0.787]\n",
            "EPOCH: 15, Train [Loss: 0.599, Accuracy: 0.800], Valid [Loss: 0.595, Accuracy: 0.807]\n",
            "EPOCH: 16, Train [Loss: 0.591, Accuracy: 0.803], Valid [Loss: 0.560, Accuracy: 0.814]\n",
            "EPOCH: 17, Train [Loss: 0.578, Accuracy: 0.806], Valid [Loss: 0.574, Accuracy: 0.807]\n",
            "EPOCH: 18, Train [Loss: 0.565, Accuracy: 0.809], Valid [Loss: 0.578, Accuracy: 0.804]\n",
            "EPOCH: 19, Train [Loss: 0.562, Accuracy: 0.812], Valid [Loss: 0.549, Accuracy: 0.816]\n",
            "EPOCH: 20, Train [Loss: 0.554, Accuracy: 0.816], Valid [Loss: 0.587, Accuracy: 0.802]\n",
            "EPOCH: 21, Train [Loss: 0.553, Accuracy: 0.816], Valid [Loss: 0.563, Accuracy: 0.811]\n",
            "EPOCH: 22, Train [Loss: 0.537, Accuracy: 0.821], Valid [Loss: 0.535, Accuracy: 0.820]\n",
            "EPOCH: 23, Train [Loss: 0.532, Accuracy: 0.822], Valid [Loss: 0.575, Accuracy: 0.816]\n",
            "EPOCH: 24, Train [Loss: 0.529, Accuracy: 0.824], Valid [Loss: 0.554, Accuracy: 0.816]\n",
            "EPOCH: 25, Train [Loss: 0.526, Accuracy: 0.824], Valid [Loss: 0.583, Accuracy: 0.807]\n",
            "EPOCH: 26, Train [Loss: 0.517, Accuracy: 0.829], Valid [Loss: 0.571, Accuracy: 0.809]\n",
            "EPOCH: 27, Train [Loss: 0.518, Accuracy: 0.826], Valid [Loss: 0.582, Accuracy: 0.806]\n",
            "EPOCH: 28, Train [Loss: 0.508, Accuracy: 0.830], Valid [Loss: 0.572, Accuracy: 0.801]\n",
            "EPOCH: 29, Train [Loss: 0.501, Accuracy: 0.832], Valid [Loss: 0.572, Accuracy: 0.809]\n"
          ]
        },
        {
          "output_type": "execute_result",
          "data": {
            "text/plain": [
              "<All keys matched successfully>"
            ]
          },
          "metadata": {},
          "execution_count": 13
        }
      ],
      "source": [
        "conv_net.apply(init_weights)\n",
        "\n",
        "n_epochs = 30\n",
        "lr = 0.01\n",
        "device = 'cuda'\n",
        "\n",
        "conv_net.to(device)\n",
        "optimizer = optim.Adam(conv_net.parameters(), lr=lr)\n",
        "loss_function = nn.CrossEntropyLoss()\n",
        "\n",
        "min_loss = np.inf\n",
        "for epoch in range(n_epochs):\n",
        "    losses_train = []\n",
        "    losses_valid = []\n",
        "\n",
        "    conv_net.train()\n",
        "    n_train = 0\n",
        "    acc_train = 0\n",
        "    for x, t in dataloader_train:\n",
        "        n_train += t.size()[0]\n",
        "\n",
        "        conv_net.zero_grad()  # 勾配の初期化\n",
        "\n",
        "        x = x.to(device)  # テンソルをGPUに移動\n",
        "        t = t.to(device)\n",
        "\n",
        "        y = conv_net.forward(x)  # 順伝播\n",
        "        loss = loss_function(y, t)  # 誤差(クロスエントロピー誤差関数)の計算\n",
        "        loss.backward()  # 誤差の逆伝播\n",
        "        optimizer.step()  # パラメータの更新\n",
        "\n",
        "        pred = y.argmax(1)  # 最大値を取るラベルを予測ラベルとする\n",
        "        acc_train += (pred == t).float().sum().item()\n",
        "        losses_train.append(loss.tolist())\n",
        "\n",
        "    conv_net.eval()\n",
        "    n_val = 0\n",
        "    acc_val = 0\n",
        "    for x, t in dataloader_valid:\n",
        "        n_val += t.size()[0]\n",
        "\n",
        "        x = x.to(device)  # テンソルをGPUに移動\n",
        "        t = t.to(device)\n",
        "\n",
        "        y = conv_net.forward(x)  # 順伝播\n",
        "\n",
        "        loss = loss_function(y, t)  # 誤差(クロスエントロピー誤差関数)の計算\n",
        "        pred = y.argmax(1)  # 最大値を取るラベルを予測ラベルとする\n",
        "        acc_val += (pred == t).float().sum().item()\n",
        "        losses_valid.append(loss.tolist())\n",
        "\n",
        "    if loss < min_loss:\n",
        "        min_loss = loss\n",
        "        state_dict = conv_net.state_dict()\n",
        "    print('EPOCH: {}, Train [Loss: {:.3f}, Accuracy: {:.3f}], Valid [Loss: {:.3f}, Accuracy: {:.3f}]'.format(\n",
        "        epoch,\n",
        "        np.mean(losses_train),\n",
        "        acc_train/n_train,\n",
        "        np.mean(losses_valid),\n",
        "        acc_val/n_val\n",
        "    ))\n",
        "\n",
        "conv_net.load_state_dict(state_dict)"
      ]
    },
    {
      "cell_type": "code",
      "execution_count": 14,
      "metadata": {
        "id": "Yq3scS5j4Rt2"
      },
      "outputs": [],
      "source": [
        "conv_net.eval()\n",
        "\n",
        "t_pred = []\n",
        "for x in dataloader_test:\n",
        "\n",
        "    x = x.to(device)\n",
        "\n",
        "    # 順伝播\n",
        "    y = conv_net.forward(x)\n",
        "\n",
        "    # モデルの出力を予測値のスカラーに変換\n",
        "    pred = y.argmax(1).tolist()\n",
        "\n",
        "    t_pred.extend(pred)\n",
        "\n",
        "submission = pd.Series(t_pred, name='label')\n",
        "submission.to_csv('drive/MyDrive/Colab Notebooks/DLBasics2023_colab/Lecture05/submission_pred.csv', header=True, index_label='id')"
      ]
    },
    {
      "cell_type": "code",
      "execution_count": null,
      "metadata": {
        "id": "73f8DjqTCoTL"
      },
      "outputs": [],
      "source": []
    }
  ],
  "metadata": {
    "accelerator": "GPU",
    "colab": {
      "provenance": [],
      "include_colab_link": true
    },
    "kernelspec": {
      "display_name": "Python 3",
      "language": "python",
      "name": "python3"
    },
    "language_info": {
      "codemirror_mode": {
        "name": "ipython",
        "version": 3
      },
      "file_extension": ".py",
      "mimetype": "text/x-python",
      "name": "python",
      "nbconvert_exporter": "python",
      "pygments_lexer": "ipython3",
      "version": "3.7.4"
    }
  },
  "nbformat": 4,
  "nbformat_minor": 0
}