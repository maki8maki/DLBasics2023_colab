{
  "nbformat": 4,
  "nbformat_minor": 0,
  "metadata": {
    "accelerator": "GPU",
    "colab": {
      "provenance": [],
      "include_colab_link": true
    },
    "kernelspec": {
      "display_name": "Python 3",
      "language": "python",
      "name": "python3"
    },
    "language_info": {
      "codemirror_mode": {
        "name": "ipython",
        "version": 3
      },
      "file_extension": ".py",
      "mimetype": "text/x-python",
      "name": "python",
      "nbconvert_exporter": "python",
      "pygments_lexer": "ipython3",
      "version": "3.7.4"
    }
  },
  "cells": [
    {
      "cell_type": "markdown",
      "metadata": {
        "id": "view-in-github",
        "colab_type": "text"
      },
      "source": [
        "<a href=\"https://colab.research.google.com/github/maki8maki/DLBasics2023_colab/blob/master/lecture05_homework.ipynb\" target=\"_parent\"><img src=\"https://colab.research.google.com/assets/colab-badge.svg\" alt=\"Open In Colab\"/></a>"
      ]
    },
    {
      "cell_type": "markdown",
      "metadata": {
        "id": "MUWcdth_khfN"
      },
      "source": [
        "# 第5回講義 宿題"
      ]
    },
    {
      "cell_type": "markdown",
      "metadata": {
        "id": "gAjuP7I4lWyn"
      },
      "source": [
        "## 課題\n",
        "\n",
        "今Lessonで学んだことに工夫を加えて，CNNでより高精度なCIFAR10の分類器を実装してみましょう．精度上位者はリーダーボードに載ります．"
      ]
    },
    {
      "cell_type": "markdown",
      "metadata": {
        "id": "Cpiz19GRlZ_9"
      },
      "source": [
        "### 目標値\n",
        "\n",
        "Accuracy 78%"
      ]
    },
    {
      "cell_type": "markdown",
      "metadata": {
        "id": "qSHeI_utleEN"
      },
      "source": [
        "### ルール\n",
        "\n",
        "- 訓練データはx_train， t_train，テストデータはx_testで与えられます．\n",
        "- 予測ラベルは one_hot表現ではなく0~9のクラスラベル で表してください．\n",
        "- **下のセルで指定されているx_train，t_train以外の学習データは使わないでください．**\n",
        "- 今回から基本的にAPI制限はありません．\n",
        "- ただしCNNベースでないモデル（Vision Transformerなど）やtorchvision等の既存モデル，学習済みモデルは用いないでください．"
      ]
    },
    {
      "cell_type": "markdown",
      "metadata": {
        "id": "diuec-_YluI6"
      },
      "source": [
        "### 提出方法\n",
        "\n",
        "- 2つのファイルを提出していただきます．\n",
        "  - テストデータ (x_test) に対する予測ラベルをcsvファイル (ファイル名: submission_pred.csv) で提出してください．\n",
        "  - それに対応するpythonのコードをsubmission_code.pyとして提出してください (%%writefileコマンドなどを利用してください)．"
      ]
    },
    {
      "cell_type": "markdown",
      "metadata": {
        "id": "hofSzJsVlvKp"
      },
      "source": [
        "### 評価方法\n",
        "\n",
        "- 予測ラベルのt_testに対する精度 (Accuracy) で評価します．\n",
        "- 提出後即時採点を行い，Leader Boardが更新されます．\n",
        "- 締切後の点数を最終的な評価とします．"
      ]
    },
    {
      "cell_type": "code",
      "source": [
        "# ドライブのマウント\n",
        "from google.colab import drive\n",
        "drive.mount('/content/drive')"
      ],
      "metadata": {
        "id": "8dS-Kfw6fBxm",
        "colab": {
          "base_uri": "https://localhost:8080/"
        },
        "outputId": "50e88a36-a432-4c59-e143-56af7e338e8c"
      },
      "execution_count": 1,
      "outputs": [
        {
          "output_type": "stream",
          "name": "stdout",
          "text": [
            "Mounted at /content/drive\n"
          ]
        }
      ]
    },
    {
      "cell_type": "markdown",
      "metadata": {
        "id": "Cu4cmQtelx19"
      },
      "source": [
        "### データの読み込み\n",
        "\n",
        "- この部分は修正しないでください"
      ]
    },
    {
      "cell_type": "code",
      "metadata": {
        "id": "EsLDDSUJkRx-"
      },
      "source": [
        "import random\n",
        "\n",
        "import numpy as np\n",
        "import pandas as pd\n",
        "import torch\n",
        "from torchvision import transforms\n",
        "from tqdm import tqdm_notebook as tqdm\n",
        "from PIL import Image\n",
        "from sklearn.model_selection import train_test_split\n",
        "\n",
        "#学習データ\n",
        "x_train = np.load('drive/MyDrive/Colab Notebooks/DLBasics2023_colab/Lecture05/data/x_train.npy')\n",
        "t_train = np.load('drive/MyDrive/Colab Notebooks/DLBasics2023_colab/Lecture05/data/t_train.npy')\n",
        "    \n",
        "#テストデータ\n",
        "x_test = np.load('drive/MyDrive/Colab Notebooks/DLBasics2023_colab/Lecture05/data/x_test.npy')\n",
        "\n",
        "class train_dataset(torch.utils.data.Dataset):\n",
        "    def __init__(self, x_train, t_train):\n",
        "        data = x_train.astype('float32')\n",
        "        self.x_train = []\n",
        "        for i in range(data.shape[0]):\n",
        "            self.x_train.append(Image.fromarray(np.uint8(data[i])))\n",
        "        self.t_train = t_train\n",
        "        self.transform = transforms.ToTensor()\n",
        "\n",
        "    def __len__(self):\n",
        "        return len(self.x_train)\n",
        "\n",
        "    def __getitem__(self, idx):\n",
        "        return self.transform(self.x_train[idx]), torch.tensor(t_train[idx], dtype=torch.long)\n",
        "\n",
        "class test_dataset(torch.utils.data.Dataset):\n",
        "    def __init__(self, x_test):\n",
        "        data = x_test.astype('float32')\n",
        "        self.x_test = []\n",
        "        for i in range(data.shape[0]):\n",
        "            self.x_test.append(Image.fromarray(np.uint8(data[i])))\n",
        "        self.transform = transforms.ToTensor()\n",
        "\n",
        "    def __len__(self):\n",
        "        return len(self.x_test)\n",
        "\n",
        "    def __getitem__(self, idx):\n",
        "        return self.transform(self.x_test[idx])\n",
        "\n",
        "trainval_data = train_dataset(x_train, t_train)\n",
        "test_data = test_dataset(x_test)"
      ],
      "execution_count": 2,
      "outputs": []
    },
    {
      "cell_type": "markdown",
      "metadata": {
        "id": "UrSpHDIWOfK_"
      },
      "source": [
        "### 畳み込みニューラルネットワーク(CNN)の実装"
      ]
    },
    {
      "cell_type": "code",
      "metadata": {
        "id": "sKAe0F36nSvU",
        "colab": {
          "base_uri": "https://localhost:8080/"
        },
        "outputId": "02995ee8-f619-44e5-e05f-7a564f7f4be4"
      },
      "source": [
        "def fix_seed(seed=1234):\n",
        "    random.seed(seed)\n",
        "    np.random.seed(seed)\n",
        "    torch.manual_seed(seed)\n",
        "\n",
        "\n",
        "fix_seed(seed=42)\n",
        "\n",
        "\n",
        "class gcn():\n",
        "    def __init__(self):\n",
        "        pass\n",
        "\n",
        "    def __call__(self, x):\n",
        "        mean = torch.mean(x)\n",
        "        std = torch.std(x)\n",
        "        return (x - mean)/(std + 10**(-6))  # 0除算を防ぐ\n",
        "\n",
        "\n",
        "class ZCAWhitening():\n",
        "    def __init__(self, epsilon=1e-4, device=\"cuda\"):  # 計算が重いのでGPUを用いる\n",
        "        self.epsilon = epsilon\n",
        "        self.device = device\n",
        "\n",
        "    def fit(self, images):  # 変換行列と平均をデータから計算\n",
        "        x = images[0][0].reshape(1, -1)\n",
        "        self.mean = torch.zeros([1, x.size()[1]]).to(self.device)\n",
        "        con_matrix = torch.zeros([x.size()[1], x.size()[1]]).to(self.device)\n",
        "        for i in range(len(images)):  # 各データについての平均を取る\n",
        "            x = images[i][0].reshape(1, -1).to(self.device)\n",
        "            self.mean += x / len(images)\n",
        "            con_matrix += torch.mm(x.t(), x) / len(images)\n",
        "            if i % 10000 == 0:\n",
        "                print(\"{0}/{1}\".format(i, len(images)))\n",
        "        self.E, self.V = torch.linalg.eigh(con_matrix)  # 固有値分解\n",
        "        self.E = torch.max(self.E, torch.zeros_like(self.E)) # 誤差の影響で負になるのを防ぐ\n",
        "        self.ZCA_matrix = torch.mm(torch.mm(self.V, torch.diag((self.E.squeeze()+self.epsilon)**(-0.5))), self.V.t())\n",
        "        print(\"completed!\")\n",
        "\n",
        "    def __call__(self, x):\n",
        "        size = x.size()\n",
        "        x = x.reshape(1, -1).to(self.device)\n",
        "        x -= self.mean\n",
        "        x = torch.mm(x, self.ZCA_matrix.t())\n",
        "        x = x.reshape(tuple(size))\n",
        "        x = x.to(\"cpu\")\n",
        "        return x\n",
        "\n",
        "\n",
        "# (datasetのクラスを自作したので，このあたりの処理が少し変わっています)\n",
        "\n",
        "zca = ZCAWhitening()\n",
        "zca.fit(trainval_data)\n",
        "\n",
        "val_size = 3000\n",
        "train_data, val_data = torch.utils.data.random_split(trainval_data, [len(trainval_data)-val_size, val_size])  # 訓練データと検証データに分割\n",
        "\n",
        "\n",
        "# 前処理を定義\n",
        "transform_train = transforms.Compose([transforms.ToTensor(),\n",
        "                                      zca])\n",
        "\n",
        "transform = transforms.Compose([transforms.ToTensor(),\n",
        "                                zca])\n",
        "\n",
        "# データセットに前処理を設定\n",
        "trainval_data.transform = transform_train\n",
        "test_data.transform = transform\n",
        "\n",
        "batch_size = 64\n",
        "\n",
        "dataloader_train = torch.utils.data.DataLoader(\n",
        "    train_data,\n",
        "    batch_size=batch_size,\n",
        "    shuffle=True\n",
        ")\n",
        "\n",
        "dataloader_valid = torch.utils.data.DataLoader(\n",
        "    val_data,\n",
        "    batch_size=batch_size,\n",
        "    shuffle=True\n",
        ")\n",
        "\n",
        "dataloader_test = torch.utils.data.DataLoader(\n",
        "    test_data,\n",
        "    batch_size=batch_size,\n",
        "    shuffle=False\n",
        ")\n"
      ],
      "execution_count": 3,
      "outputs": [
        {
          "output_type": "stream",
          "name": "stdout",
          "text": [
            "0/50000\n",
            "10000/50000\n",
            "20000/50000\n",
            "30000/50000\n",
            "40000/50000\n",
            "completed!\n"
          ]
        }
      ]
    },
    {
      "cell_type": "code",
      "metadata": {
        "id": "PADQiKNa2snb"
      },
      "source": [
        "import torch.nn as nn\n",
        "import torch.optim as optim\n",
        "import torch.autograd as autograd\n",
        "import torch.nn.functional as F\n",
        "\n",
        "rng = np.random.RandomState(1234)\n",
        "random_state = 42\n",
        "device = torch.device(\"cuda\" if torch.cuda.is_available() else \"cpu\")\n",
        "\n",
        "# 演習にDropout追加\n",
        "conv_net = nn.Sequential(\n",
        "    nn.Conv2d(3, 32, 3),              # 32x32x3 -> 30x30x32\n",
        "    nn.BatchNorm2d(32),\n",
        "    nn.ReLU(),\n",
        "    nn.AvgPool2d(2),                  # 30x30x32 -> 15x15x32\n",
        "    nn.Conv2d(32, 64, 3),             # 15x15x32 -> 13x13x64\n",
        "    nn.BatchNorm2d(64),\n",
        "    nn.ReLU(),\n",
        "    nn.AvgPool2d(2),                  # 13x13x64 -> 6x6x64\n",
        "    nn.Conv2d(64, 128, 3),            # 6x6x64 -> 4x4x128\n",
        "    nn.BatchNorm2d(128),\n",
        "    nn.ReLU(),\n",
        "    nn.AvgPool2d(2),                  # 4x4x128 -> 2x2x128\n",
        "    nn.Flatten(),\n",
        "    nn.Dropout(0.25),\n",
        "    nn.Linear(2*2*128, 256),\n",
        "    nn.ReLU(),\n",
        "    nn.Dropout(0.25),\n",
        "    nn.Linear(256, 10)\n",
        ")\n",
        "\n",
        "# # LeNetにBatchNormを追加 -> 精度は低い\n",
        "# conv_net = nn.Sequential(\n",
        "#     nn.Conv2d(3, 6, 5),              # 32x32x3 -> 28x28x6\n",
        "#     nn.BatchNorm2d(6),\n",
        "#     nn.ReLU(),\n",
        "#     nn.MaxPool2d((2, 2)),            # 28x28x6 -> 14x14x6\n",
        "#     nn.Conv2d(6, 16, 5),             # 14x14x6 -> 10x10x16\n",
        "#     nn.BatchNorm2d(16),\n",
        "#     nn.ReLU(),\n",
        "#     nn.MaxPool2d((2, 2)),            # 10x10x16 -> 5x5x16\n",
        "#     nn.Flatten(),\n",
        "#     nn.Linear(5*5*16, 120),\n",
        "#     nn.ReLU(),\n",
        "#     nn.Linear(120, 84),\n",
        "#     nn.ReLU(),\n",
        "#     nn.Linear(84, 10)\n",
        "# )\n",
        "\n",
        "def init_weights(m):  # Heの初期化\n",
        "    if type(m) == nn.Linear or type(m) == nn.Conv2d:\n",
        "        torch.nn.init.kaiming_normal_(m.weight)\n",
        "        m.bias.data.fill_(0.0)"
      ],
      "execution_count": 16,
      "outputs": []
    },
    {
      "cell_type": "code",
      "metadata": {
        "id": "nlOZuLu-328i",
        "colab": {
          "base_uri": "https://localhost:8080/"
        },
        "outputId": "4bde8c6b-30eb-4e97-b448-14dc4230d2d1"
      },
      "source": [
        "conv_net.apply(init_weights)\n",
        "\n",
        "n_epochs = 20\n",
        "lr = 0.01\n",
        "device = 'cuda'\n",
        "\n",
        "conv_net.to(device)\n",
        "optimizer = optim.Adam(conv_net.parameters(), lr=lr)\n",
        "loss_function = nn.CrossEntropyLoss()\n",
        "\n",
        "min_loss = np.inf\n",
        "for epoch in range(n_epochs):\n",
        "    losses_train = []\n",
        "    losses_valid = []\n",
        "\n",
        "    conv_net.train()\n",
        "    n_train = 0\n",
        "    acc_train = 0\n",
        "    for x, t in dataloader_train:\n",
        "        n_train += t.size()[0]\n",
        "\n",
        "        conv_net.zero_grad()  # 勾配の初期化\n",
        "\n",
        "        x = x.to(device)  # テンソルをGPUに移動\n",
        "        t = t.to(device)\n",
        "\n",
        "        y = conv_net.forward(x)  # 順伝播\n",
        "        loss = loss_function(y, t)  # 誤差(クロスエントロピー誤差関数)の計算\n",
        "        loss.backward()  # 誤差の逆伝播\n",
        "        optimizer.step()  # パラメータの更新\n",
        "\n",
        "        pred = y.argmax(1)  # 最大値を取るラベルを予測ラベルとする\n",
        "        acc_train += (pred == t).float().sum().item()\n",
        "        losses_train.append(loss.tolist())\n",
        "\n",
        "    conv_net.eval()\n",
        "    n_val = 0\n",
        "    acc_val = 0\n",
        "    for x, t in dataloader_valid:\n",
        "        n_val += t.size()[0]\n",
        "\n",
        "        x = x.to(device)  # テンソルをGPUに移動\n",
        "        t = t.to(device)\n",
        "\n",
        "        y = conv_net.forward(x)  # 順伝播\n",
        "\n",
        "        loss = loss_function(y, t)  # 誤差(クロスエントロピー誤差関数)の計算\n",
        "        pred = y.argmax(1)  # 最大値を取るラベルを予測ラベルとする\n",
        "        acc_val += (pred == t).float().sum().item()\n",
        "        losses_valid.append(loss.tolist())\n",
        "\n",
        "    if loss < min_loss:\n",
        "        min_loss = loss\n",
        "        state_dict = conv_net.state_dict()\n",
        "    print('EPOCH: {}, Train [Loss: {:.3f}, Accuracy: {:.3f}], Valid [Loss: {:.3f}, Accuracy: {:.3f}]'.format(\n",
        "        epoch,\n",
        "        np.mean(losses_train),\n",
        "        acc_train/n_train,\n",
        "        np.mean(losses_valid),\n",
        "        acc_val/n_val\n",
        "    ))\n",
        "\n",
        "conv_net.load_state_dict(state_dict)"
      ],
      "execution_count": 18,
      "outputs": [
        {
          "output_type": "stream",
          "name": "stdout",
          "text": [
            "EPOCH: 0, Train [Loss: 1.354, Accuracy: 0.522], Valid [Loss: 1.041, Accuracy: 0.641]\n",
            "EPOCH: 1, Train [Loss: 0.997, Accuracy: 0.659], Valid [Loss: 0.975, Accuracy: 0.668]\n",
            "EPOCH: 2, Train [Loss: 0.877, Accuracy: 0.700], Valid [Loss: 0.842, Accuracy: 0.714]\n",
            "EPOCH: 3, Train [Loss: 0.805, Accuracy: 0.727], Valid [Loss: 0.741, Accuracy: 0.744]\n",
            "EPOCH: 4, Train [Loss: 0.759, Accuracy: 0.741], Valid [Loss: 0.729, Accuracy: 0.753]\n",
            "EPOCH: 5, Train [Loss: 0.715, Accuracy: 0.757], Valid [Loss: 0.681, Accuracy: 0.768]\n",
            "EPOCH: 6, Train [Loss: 0.685, Accuracy: 0.768], Valid [Loss: 0.712, Accuracy: 0.764]\n",
            "EPOCH: 7, Train [Loss: 0.665, Accuracy: 0.773], Valid [Loss: 0.668, Accuracy: 0.774]\n",
            "EPOCH: 8, Train [Loss: 0.632, Accuracy: 0.783], Valid [Loss: 0.684, Accuracy: 0.766]\n",
            "EPOCH: 9, Train [Loss: 0.619, Accuracy: 0.789], Valid [Loss: 0.675, Accuracy: 0.783]\n",
            "EPOCH: 10, Train [Loss: 0.596, Accuracy: 0.796], Valid [Loss: 0.759, Accuracy: 0.756]\n",
            "EPOCH: 11, Train [Loss: 0.581, Accuracy: 0.800], Valid [Loss: 0.763, Accuracy: 0.771]\n",
            "EPOCH: 12, Train [Loss: 0.560, Accuracy: 0.810], Valid [Loss: 0.703, Accuracy: 0.773]\n",
            "EPOCH: 13, Train [Loss: 0.546, Accuracy: 0.816], Valid [Loss: 0.645, Accuracy: 0.792]\n",
            "EPOCH: 14, Train [Loss: 0.536, Accuracy: 0.817], Valid [Loss: 0.641, Accuracy: 0.795]\n",
            "EPOCH: 15, Train [Loss: 0.523, Accuracy: 0.821], Valid [Loss: 0.686, Accuracy: 0.780]\n",
            "EPOCH: 16, Train [Loss: 0.517, Accuracy: 0.824], Valid [Loss: 0.700, Accuracy: 0.776]\n",
            "EPOCH: 17, Train [Loss: 0.502, Accuracy: 0.829], Valid [Loss: 0.729, Accuracy: 0.770]\n",
            "EPOCH: 18, Train [Loss: 0.493, Accuracy: 0.831], Valid [Loss: 0.653, Accuracy: 0.788]\n",
            "EPOCH: 19, Train [Loss: 0.485, Accuracy: 0.835], Valid [Loss: 0.699, Accuracy: 0.784]\n"
          ]
        }
      ]
    },
    {
      "cell_type": "code",
      "metadata": {
        "id": "Yq3scS5j4Rt2"
      },
      "source": [
        "conv_net.eval()\n",
        "\n",
        "t_pred = []\n",
        "for x in dataloader_test:\n",
        "\n",
        "    x = x.to(device)\n",
        "\n",
        "    # 順伝播\n",
        "    y = conv_net.forward(x)\n",
        "\n",
        "    # モデルの出力を予測値のスカラーに変換\n",
        "    pred = y.argmax(1).tolist()\n",
        "\n",
        "    t_pred.extend(pred)\n",
        "\n",
        "submission = pd.Series(t_pred, name='label')\n",
        "submission.to_csv('drive/MyDrive/Colab Notebooks/DLBasics2023_colab/Lecture05/submission_pred.csv', header=True, index_label='id')"
      ],
      "execution_count": 19,
      "outputs": []
    },
    {
      "cell_type": "code",
      "metadata": {
        "id": "73f8DjqTCoTL"
      },
      "source": [],
      "execution_count": null,
      "outputs": []
    }
  ]
}