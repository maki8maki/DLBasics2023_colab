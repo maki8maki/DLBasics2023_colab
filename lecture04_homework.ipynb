{
  "cells": [
    {
      "cell_type": "markdown",
      "metadata": {
        "id": "view-in-github",
        "colab_type": "text"
      },
      "source": [
        "<a href=\"https://colab.research.google.com/github/maki8maki/DLBasics2023_colab/blob/master/lecture04_homework.ipynb\" target=\"_parent\"><img src=\"https://colab.research.google.com/assets/colab-badge.svg\" alt=\"Open In Colab\"/></a>"
      ]
    },
    {
      "cell_type": "markdown",
      "metadata": {
        "id": "MUWcdth_khfN"
      },
      "source": [
        "# 第4回講義 宿題"
      ]
    },
    {
      "cell_type": "markdown",
      "metadata": {
        "id": "gAjuP7I4lWyn"
      },
      "source": [
        "## 課題\n",
        "\n",
        "今Lessonで学んだことを元に，MNISTのファッション版 (Fashion MNIST，クラス数10) を多層パーセプトロンによって分類してみましょう．\n",
        "\n",
        "Fashion MNISTの詳細については以下のリンクを参考にしてください．\n",
        "\n",
        "Fashion MNIST: https://github.com/zalandoresearch/fashion-mnist"
      ]
    },
    {
      "cell_type": "markdown",
      "metadata": {
        "id": "Cpiz19GRlZ_9"
      },
      "source": [
        "### 目標値\n",
        "\n",
        "Accuracy 85%"
      ]
    },
    {
      "cell_type": "markdown",
      "metadata": {
        "id": "qSHeI_utleEN"
      },
      "source": [
        "### ルール\n",
        "\n",
        "- 訓練データはx_train，t_train，テストデータはx_testで与えられます．\n",
        "- 予測ラベルはone_hot表現ではなく0~9のクラスラベルで表してください．\n",
        "- **下のセルで指定されているx_train、t_train以外の学習データは使わないでください**．\n",
        "- Pytorchを利用して構いません．\n",
        "- ただし，**torch.nn.Conv2dのような高レベルのAPIは使用しないで下さい**．具体的には，nn.Parameter, nn.Module, nn.Sequential以外のnn系のAPIです．\n",
        "- torchvision等で既に実装されているモデルも使用しないで下さい．"
      ]
    },
    {
      "cell_type": "markdown",
      "metadata": {
        "id": "diuec-_YluI6"
      },
      "source": [
        "### 提出方法\n",
        "\n",
        "- 2つのファイルを提出していただきます．\n",
        "  - テストデータ (x_test) に対する予測ラベルをcsvファイル (ファイル名: submission_pred.csv) で提出してください．\n",
        "  - それに対応するpythonのコードをsubmission_code.pyとして提出してください (%%writefileコマンドなどを利用してください)．"
      ]
    },
    {
      "cell_type": "markdown",
      "metadata": {
        "id": "hofSzJsVlvKp"
      },
      "source": [
        "### 評価方法\n",
        "\n",
        "- 予測ラベルのt_testに対する精度 (Accuracy) で評価します．\n",
        "- 即時採点しLeader Boardを更新します．（採点スケジュールは別アナウンス）\n",
        "- 締切後の点数を最終的な評価とします．"
      ]
    },
    {
      "cell_type": "markdown",
      "metadata": {
        "id": "ALYtPC5OjKFM"
      },
      "source": [
        "### ドライブのマウント"
      ]
    },
    {
      "cell_type": "code",
      "execution_count": 1,
      "metadata": {
        "id": "efPoZs_KjKFM",
        "colab": {
          "base_uri": "https://localhost:8080/"
        },
        "outputId": "43a40362-c0ee-4f2b-9914-17fd25662353"
      },
      "outputs": [
        {
          "output_type": "stream",
          "name": "stdout",
          "text": [
            "Mounted at /content/drive\n"
          ]
        }
      ],
      "source": [
        "from google.colab import drive\n",
        "drive.mount('/content/drive')"
      ]
    },
    {
      "cell_type": "markdown",
      "metadata": {
        "id": "Cu4cmQtelx19"
      },
      "source": [
        "### データの読み込み（この部分は修正しないでください）"
      ]
    },
    {
      "cell_type": "code",
      "execution_count": 2,
      "metadata": {
        "id": "EsLDDSUJkRx-"
      },
      "outputs": [],
      "source": [
        "import os\n",
        "import numpy as np\n",
        "import pandas as pd\n",
        "import torch\n",
        "import torch.nn as nn\n",
        "import torch.optim as optim\n",
        "import torch.autograd as autograd\n",
        "import inspect\n",
        " \n",
        "nn_except = [\"Module\", \"Parameter\", \"Sequential\"]\n",
        "for m in inspect.getmembers(nn):\n",
        "    if not m[0] in nn_except and m[0][0:2] != \"__\":\n",
        "        delattr(nn, m[0]) \n",
        "\n",
        "seed = 1234\n",
        "torch.manual_seed(seed)\n",
        "np.random.seed(seed)\n",
        "\n",
        "device = torch.device(\"cuda\" if torch.cuda.is_available() else \"cpu\")\n",
        "\n",
        "#学習データ\n",
        "x_train = np.load('drive/MyDrive/Colab Notebooks/DLBasics2023_colab/Lecture04/data/x_train.npy')\n",
        "t_train = np.load('drive/MyDrive/Colab Notebooks/DLBasics2023_colab/Lecture04/data/y_train.npy')\n",
        "    \n",
        "#テストデータ\n",
        "x_test = np.load('drive/MyDrive/Colab Notebooks/DLBasics2023_colab/Lecture04/data/x_test.npy')\n",
        "\n",
        "class train_dataset(torch.utils.data.Dataset):\n",
        "    def __init__(self, x_train, t_train):\n",
        "        self.x_train = x_train.reshape(-1, 784).astype('float32') / 255\n",
        "        self.t_train = t_train\n",
        "\n",
        "    def __len__(self):\n",
        "        return self.x_train.shape[0]\n",
        "\n",
        "    def __getitem__(self, idx):\n",
        "        return torch.tensor(self.x_train[idx], dtype=torch.float), torch.tensor(self.t_train[idx], dtype=torch.long)\n",
        "\n",
        "class test_dataset(torch.utils.data.Dataset):\n",
        "    def __init__(self, x_test):\n",
        "        self.x_test = x_test.reshape(-1, 784).astype('float32') / 255\n",
        "\n",
        "    def __len__(self):\n",
        "        return self.x_test.shape[0]\n",
        "\n",
        "    def __getitem__(self, idx):\n",
        "        return torch.tensor(self.x_test[idx], dtype=torch.float)\n",
        "\n",
        "trainval_data = train_dataset(x_train, t_train)\n",
        "test_data = test_dataset(x_test)"
      ]
    },
    {
      "cell_type": "markdown",
      "metadata": {
        "id": "UrSpHDIWOfK_"
      },
      "source": [
        "### 多層パーセプトロンの実装"
      ]
    },
    {
      "cell_type": "code",
      "source": [
        "def torch_log(x):\n",
        "    return torch.log(torch.clamp(x, 1e-10, 1e+10))"
      ],
      "metadata": {
        "id": "MS8-HqUrgWT4"
      },
      "execution_count": 3,
      "outputs": []
    },
    {
      "cell_type": "code",
      "execution_count": 5,
      "metadata": {
        "id": "sKAe0F36nSvU"
      },
      "outputs": [],
      "source": [
        "# batch_size = 32\n",
        "batch_size = 128\n",
        "\n",
        "val_size = 10000\n",
        "train_size = len(trainval_data) - val_size\n",
        "\n",
        "train_data, val_data = torch.utils.data.random_split(trainval_data, [train_size, val_size])\n",
        "\n",
        "dataloader_train = torch.utils.data.DataLoader(\n",
        "    train_data,\n",
        "    batch_size=batch_size,\n",
        "    shuffle=True\n",
        ")\n",
        "\n",
        "dataloader_valid = torch.utils.data.DataLoader(\n",
        "    val_data,\n",
        "    batch_size=batch_size,\n",
        "    shuffle=True\n",
        ")\n",
        "\n",
        "dataloader_test = torch.utils.data.DataLoader(\n",
        "    test_data,\n",
        "    batch_size=batch_size,\n",
        "    shuffle=False\n",
        ")"
      ]
    },
    {
      "cell_type": "code",
      "execution_count": 6,
      "metadata": {
        "id": "PADQiKNa2snb"
      },
      "outputs": [],
      "source": [
        "def relu(x):\n",
        "    x = torch.where(x > 0, x, torch.zeros_like(x))\n",
        "    return x\n",
        "\n",
        "\n",
        "def softmax(x):\n",
        "    x -= torch.cat([x.max(axis=1, keepdim=True).values] * x.size()[1], dim=1)\n",
        "    x_exp = torch.exp(x)\n",
        "    return x_exp/torch.cat([x_exp.sum(dim=1, keepdim=True)] * x.size()[1], dim=1)\n",
        "\n",
        "\n",
        "class Dense(nn.Module):  # nn.Moduleを継承する\n",
        "    def __init__(self, in_dim, out_dim, function=lambda x: x):\n",
        "        super().__init__()\n",
        "        # He Initialization\n",
        "        # in_dim: 入力の次元数、out_dim: 出力の次元数\n",
        "        self.W = nn.Parameter(torch.tensor(np.random.uniform(\n",
        "                        low=-np.sqrt(6/in_dim),\n",
        "                        high=np.sqrt(6/in_dim),\n",
        "                        size=(in_dim, out_dim)\n",
        "                    ).astype('float32')))\n",
        "        self.b = nn.Parameter(torch.tensor(np.zeros([out_dim]).astype('float32')))\n",
        "        self.function = function\n",
        "\n",
        "    def forward(self, x):  # forwardをoverride\n",
        "        return self.function(torch.matmul(x, self.W) + self.b)\n",
        "\n",
        "\n",
        "class MLP(nn.Module):  # nn.Moduleを継承する\n",
        "    def __init__(self, in_dim, hid_dim, out_dim):  # __init__をoverride\n",
        "        super(MLP, self).__init__()\n",
        "        self.linear1 = Dense(in_dim, hid_dim, function=relu)\n",
        "        self.linear2 = Dense(hid_dim, out_dim, function=softmax)\n",
        "\n",
        "    def forward(self, x):  # forwardをoverride\n",
        "        x = self.linear1(x)\n",
        "        x = self.linear2(x)\n",
        "        return x\n",
        "\n",
        "def makeMLP(layer_dims):\n",
        "    mlp = nn.Sequential()\n",
        "    for i in range(len(layer_dims)-2):\n",
        "        mlp.append(Dense(layer_dims[i], layer_dims[i+1], function=relu))\n",
        "    mlp.append(Dense(layer_dims[-2], layer_dims[-1], function=softmax))\n",
        "    return mlp"
      ]
    },
    {
      "cell_type": "code",
      "execution_count": 27,
      "metadata": {
        "id": "nlOZuLu-328i",
        "colab": {
          "base_uri": "https://localhost:8080/"
        },
        "outputId": "958303e9-511e-49b9-817c-0385e80d774e"
      },
      "outputs": [
        {
          "output_type": "stream",
          "name": "stdout",
          "text": [
            "EPOCH: 1, Train [Loss: 0.501, Accuracy: 0.819], Valid [Loss: 0.367, Accuracy: 0.866]\n",
            "EPOCH: 10, Train [Loss: 0.226, Accuracy: 0.915], Valid [Loss: 0.310, Accuracy: 0.890]\n",
            "EPOCH: 20, Train [Loss: 0.149, Accuracy: 0.943], Valid [Loss: 0.336, Accuracy: 0.901]\n",
            "EPOCH: 30, Train [Loss: 0.103, Accuracy: 0.959], Valid [Loss: 0.396, Accuracy: 0.900]\n",
            "EPOCH: 40, Train [Loss: 0.080, Accuracy: 0.970], Valid [Loss: 0.474, Accuracy: 0.901]\n",
            "EPOCH: 50, Train [Loss: 0.060, Accuracy: 0.977], Valid [Loss: 0.506, Accuracy: 0.902]\n",
            "EPOCH: 60, Train [Loss: 0.051, Accuracy: 0.981], Valid [Loss: 0.569, Accuracy: 0.901]\n",
            "EPOCH: 70, Train [Loss: 0.034, Accuracy: 0.988], Valid [Loss: 0.615, Accuracy: 0.899]\n",
            "EPOCH: 80, Train [Loss: 0.031, Accuracy: 0.989], Valid [Loss: 0.661, Accuracy: 0.900]\n",
            "EPOCH: 90, Train [Loss: 0.030, Accuracy: 0.990], Valid [Loss: 0.710, Accuracy: 0.897]\n",
            "EPOCH: 100, Train [Loss: 0.030, Accuracy: 0.991], Valid [Loss: 0.696, Accuracy: 0.901]\n"
          ]
        }
      ],
      "source": [
        "in_dim = 784\n",
        "out_dim = 10\n",
        "layer_dims = [in_dim, 1500, 500, 200, 100, out_dim]\n",
        "lr = 0.001\n",
        "n_epochs = 100\n",
        "dig = n_epochs / 10\n",
        "\n",
        "mlp = makeMLP(layer_dims).to(device)\n",
        "optimizer = optim.Adam(mlp.parameters(), lr=lr)\n",
        "\n",
        "for epoch in range(n_epochs):\n",
        "    losses_train = []\n",
        "    losses_valid = []\n",
        "    train_num = 0\n",
        "    train_true_num = 0\n",
        "    valid_num = 0\n",
        "    valid_true_num = 0\n",
        "\n",
        "    mlp.train()  # 訓練時には勾配を計算するtrainモードにする\n",
        "    for x, t in dataloader_train:\n",
        "        t_hot = torch.eye(10)[t]  # 正解ラベルをone-hot vector化\n",
        "\n",
        "        # テンソルをGPUに移動\n",
        "        x = x.to(device)\n",
        "        t_hot = t_hot.to(device)\n",
        "\n",
        "        # 順伝播\n",
        "        y = mlp.forward(x)\n",
        "\n",
        "        # 誤差の計算(クロスエントロピー誤差関数)\n",
        "        loss = -(t_hot*torch_log(y)).sum(axis=1).mean()\n",
        "\n",
        "        # 誤差の逆伝播\n",
        "        optimizer.zero_grad()\n",
        "        loss.backward()\n",
        "\n",
        "        # パラメータの更新\n",
        "        optimizer.step()\n",
        "\n",
        "        # モデルの出力を予測値のスカラーに変換\n",
        "        pred = y.argmax(1)\n",
        "\n",
        "        losses_train.append(loss.tolist())\n",
        "\n",
        "        acc = torch.where(t - pred.to(\"cpu\") == 0, torch.ones_like(t), torch.zeros_like(t))\n",
        "        train_num += acc.size()[0]\n",
        "        train_true_num += acc.sum().item()\n",
        "\n",
        "    mlp.eval()  # 評価時には勾配を計算しないevalモードにする\n",
        "    for x, t in dataloader_valid:\n",
        "        t_hot = torch.eye(10)[t]  # 正解ラベルをone-hot vector化\n",
        "\n",
        "        # テンソルをGPUに移動\n",
        "        x = x.to(device)\n",
        "        t_hot = t_hot.to(device)\n",
        "\n",
        "        # 順伝播\n",
        "        y = mlp.forward(x)\n",
        "\n",
        "        # 誤差の計算(クロスエントロピー誤差関数)\n",
        "        loss = -(t_hot*torch_log(y)).sum(axis=1).mean()\n",
        "\n",
        "        # モデルの出力を予測値のスカラーに変換\n",
        "        pred = y.argmax(1)\n",
        "\n",
        "        losses_valid.append(loss.tolist())\n",
        "\n",
        "        acc = torch.where(t - pred.to(\"cpu\") == 0, torch.ones_like(t), torch.zeros_like(t))\n",
        "        valid_num += acc.size()[0]\n",
        "        valid_true_num += acc.sum().item()\n",
        "    \n",
        "    if epoch % dig == (dig-1) or epoch == 0:\n",
        "        print('EPOCH: {}, Train [Loss: {:.3f}, Accuracy: {:.3f}], Valid [Loss: {:.3f}, Accuracy: {:.3f}]'.format(\n",
        "            epoch+1,\n",
        "            np.mean(losses_train),\n",
        "            train_true_num/train_num,\n",
        "            np.mean(losses_valid),\n",
        "            valid_true_num/valid_num\n",
        "        ))"
      ]
    },
    {
      "cell_type": "code",
      "execution_count": 28,
      "metadata": {
        "id": "Yq3scS5j4Rt2"
      },
      "outputs": [],
      "source": [
        "mlp.eval()\n",
        "\n",
        "t_pred = []\n",
        "for x in dataloader_test:\n",
        "\n",
        "    x = x.to(device)\n",
        "\n",
        "    # 順伝播\n",
        "    y = mlp.forward(x)\n",
        "\n",
        "    # モデルの出力を予測値のスカラーに変換\n",
        "    pred = y.argmax(1).tolist()\n",
        "\n",
        "    t_pred.extend(pred)\n",
        "\n",
        "submission = pd.Series(t_pred, name='label')\n",
        "submission.to_csv('drive/MyDrive/Colab Notebooks/DLBasics2023_colab/Lecture04/submission_pred.csv', header=True, index_label='id')"
      ]
    },
    {
      "cell_type": "code",
      "execution_count": null,
      "metadata": {
        "id": "73f8DjqTCoTL"
      },
      "outputs": [],
      "source": []
    }
  ],
  "metadata": {
    "accelerator": "GPU",
    "colab": {
      "provenance": [],
      "include_colab_link": true
    },
    "kernelspec": {
      "display_name": "Python 3",
      "language": "python",
      "name": "python3"
    },
    "language_info": {
      "codemirror_mode": {
        "name": "ipython",
        "version": 3
      },
      "file_extension": ".py",
      "mimetype": "text/x-python",
      "name": "python",
      "nbconvert_exporter": "python",
      "pygments_lexer": "ipython3",
      "version": "3.6.2"
    }
  },
  "nbformat": 4,
  "nbformat_minor": 0
}